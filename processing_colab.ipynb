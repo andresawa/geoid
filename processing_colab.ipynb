{
 "cells": [
  {
   "cell_type": "markdown",
   "metadata": {},
   "source": [
    "# Find the differences between the DTU10 and EGM08 geoids\n",
    "****"
   ]
  },
  {
   "cell_type": "markdown",
   "metadata": {},
   "source": [
    "#### Install rioxarray in Google Colab"
   ]
  },
  {
   "cell_type": "code",
   "execution_count": null,
   "metadata": {},
   "outputs": [],
   "source": [
    "pip install rioxarray"
   ]
  },
  {
   "cell_type": "markdown",
   "metadata": {},
   "source": [
    "#### Download the data"
   ]
  },
  {
   "cell_type": "code",
   "execution_count": null,
   "metadata": {},
   "outputs": [],
   "source": [
    "!wget https://s3-eu-west-1.amazonaws.com/download.agisoft.com/gtg/us_nga_egm2008_1.tif #EGM08\n",
    "!wget https://ftp.space.dtu.dk/pub/DTU10/1_MIN/DTU10MDT_1min.nc #DTU10 (MDT)\n",
    "!wget https://ftp.space.dtu.dk/pub/DTU10/1_MIN/DTU10MSS_1min.nc #DTU10 (MSS)"
   ]
  },
  {
   "cell_type": "markdown",
   "metadata": {},
   "source": [
    "#### Import the libraries to be used in the analysis"
   ]
  },
  {
   "cell_type": "code",
   "execution_count": null,
   "metadata": {},
   "outputs": [],
   "source": [
    "import xarray as xr\n",
    "import matplotlib.pyplot as plt\n",
    "import rioxarray"
   ]
  },
  {
   "cell_type": "markdown",
   "metadata": {},
   "source": [
    "### Step 1: Import the data\n",
    "****"
   ]
  },
  {
   "cell_type": "markdown",
   "metadata": {},
   "source": [
    "#### Load the DTU10MSS (mean sea surface) and the DTU10MDT (mean dynamic topography)"
   ]
  },
  {
   "cell_type": "code",
   "execution_count": null,
   "metadata": {},
   "outputs": [],
   "source": [
    "dtu10mss = xr.open_dataarray(\"./DTU10MSS_1min.nc\")\n",
    "dtu10mss"
   ]
  },
  {
   "cell_type": "code",
   "execution_count": null,
   "metadata": {},
   "outputs": [],
   "source": [
    "dtu10mdt = xr.open_dataarray(\"./DTU10MDT_1min.nc\")\n",
    "dtu10mdt"
   ]
  },
  {
   "cell_type": "markdown",
   "metadata": {},
   "source": [
    "#### Load the EGM08 geoid, change the coords names and drop the band coordinate"
   ]
  },
  {
   "cell_type": "code",
   "execution_count": null,
   "metadata": {},
   "outputs": [],
   "source": [
    "egm08 = (\n",
    "    rioxarray.open_rasterio(\"./us_nga_egm2008_1.tif\")\n",
    "    .rename(\"egm08\")\n",
    "    .rename({\"x\": \"lon\", \"y\": \"lat\"})\n",
    "    .squeeze()\n",
    "    .drop_vars(\"band\")\n",
    ")\n",
    "egm08"
   ]
  },
  {
   "cell_type": "markdown",
   "metadata": {},
   "source": [
    "### Step 2: Adjust the DTU10 coordinates and calculate the EDT10 geoid\n",
    "****"
   ]
  },
  {
   "cell_type": "markdown",
   "metadata": {},
   "source": [
    "#### Change the longitude from 0-360 to -180-180"
   ]
  },
  {
   "cell_type": "code",
   "execution_count": null,
   "metadata": {},
   "outputs": [],
   "source": [
    "dtu10mss[\"lon\"] = (dtu10mss[\"lon\"] + 180) % 360 - 180\n",
    "dtu10mdt[\"lon\"] = (dtu10mdt[\"lon\"] + 180) % 360 - 180"
   ]
  },
  {
   "cell_type": "markdown",
   "metadata": {},
   "source": [
    "#### Sort the longitude"
   ]
  },
  {
   "cell_type": "code",
   "execution_count": null,
   "metadata": {},
   "outputs": [],
   "source": [
    "dtu10mss = dtu10mss.sortby(\"lon\")\n",
    "dtu10mdt = dtu10mdt.sortby(\"lon\")"
   ]
  },
  {
   "cell_type": "markdown",
   "metadata": {},
   "source": [
    "#### Calculate the geoid"
   ]
  },
  {
   "cell_type": "code",
   "execution_count": null,
   "metadata": {},
   "outputs": [],
   "source": [
    "dtu10 = dtu10mss - dtu10mdt"
   ]
  },
  {
   "cell_type": "markdown",
   "metadata": {},
   "source": [
    "### Step 3: Adjust the EGM08 coordinates\n",
    "****"
   ]
  },
  {
   "cell_type": "markdown",
   "metadata": {},
   "source": [
    "### Subset the data to avoid Google Colab ram overflow"
   ]
  },
  {
   "cell_type": "code",
   "execution_count": null,
   "metadata": {},
   "outputs": [],
   "source": [
    "dtu10 = dtu10.sel(lon=slice(-98, -81), lat=slice(17, 30))\n",
    "egm08 = egm08.sel(lon=slice(-98, -81), lat=slice(17, 30))"
   ]
  },
  {
   "cell_type": "markdown",
   "metadata": {},
   "source": [
    "#### Sort the latitude and resample the EGM08 dataset to the DTU10 coordinates"
   ]
  },
  {
   "cell_type": "code",
   "execution_count": null,
   "metadata": {},
   "outputs": [],
   "source": [
    "egm08 = egm08.sortby(\"lat\")\n",
    "egm08_fixed = egm08.interp(lon=dtu10[\"lon\"], lat=dtu10[\"lat\"])"
   ]
  },
  {
   "cell_type": "markdown",
   "metadata": {},
   "source": [
    "### Step 4: Calculate the differences between geoids\n",
    "****"
   ]
  },
  {
   "cell_type": "markdown",
   "metadata": {},
   "source": [
    "### Calculate the differences"
   ]
  },
  {
   "cell_type": "code",
   "execution_count": null,
   "metadata": {},
   "outputs": [],
   "source": [
    "geoid_diff = abs(dtu10) - abs(egm08_fixed)"
   ]
  },
  {
   "cell_type": "markdown",
   "metadata": {},
   "source": [
    "### Step 5: Plot the data and save to an file\n",
    "****"
   ]
  },
  {
   "cell_type": "markdown",
   "metadata": {},
   "source": [
    "### Plot DTU geoid"
   ]
  },
  {
   "cell_type": "code",
   "execution_count": null,
   "metadata": {},
   "outputs": [],
   "source": [
    "### Subset\n",
    "dtu10plot = dtu10.sel(lon=slice(-92.6, -92.3), lat=slice(19, 19.19))\n",
    "### Plot\n",
    "fig = plt.figure(figsize=(6, 4), dpi=300)\n",
    "ax = fig.subplots()\n",
    "mesh = ax.pcolormesh(dtu10plot[\"lon\"], dtu10plot[\"lat\"], dtu10plot)\n",
    "contour = ax.contour(dtu10plot[\"lon\"], dtu10plot[\"lat\"], dtu10plot, colors=\"white\")\n",
    "fig.colorbar(mesh, ax=ax)\n",
    "ax.clabel(contour, inline=True, fontsize=7)\n",
    "ax.set_title(\"DTU10 (m)\")\n",
    "plt.tight_layout()"
   ]
  },
  {
   "cell_type": "markdown",
   "metadata": {},
   "source": [
    "### Plot EGM08 geoid"
   ]
  },
  {
   "cell_type": "code",
   "execution_count": null,
   "metadata": {},
   "outputs": [],
   "source": [
    "### Subset\n",
    "egm08plot = egm08.sel(lon=slice(-92.6, -92.3), lat=slice(19, 19.19))\n",
    "### Plot\n",
    "fig = plt.figure(figsize=(6, 4), dpi=300)\n",
    "ax = fig.subplots()\n",
    "mesh = ax.pcolormesh(egm08plot[\"lon\"], egm08plot[\"lat\"], egm08plot)\n",
    "contour = ax.contour(egm08plot[\"lon\"], egm08plot[\"lat\"], egm08plot, colors=\"white\")\n",
    "fig.colorbar(mesh, ax=ax)\n",
    "ax.clabel(contour, inline=True, fontsize=7)\n",
    "ax.set_title(\"EGM08 (m)\")\n",
    "plt.tight_layout()"
   ]
  },
  {
   "cell_type": "markdown",
   "metadata": {},
   "source": [
    "### Plot diff "
   ]
  },
  {
   "cell_type": "code",
   "execution_count": null,
   "metadata": {},
   "outputs": [],
   "source": [
    "### Subset\n",
    "geoid_diff_cut = geoid_diff.sel(lon=slice(-92.6, -92.3), lat=slice(19, 19.19))\n",
    "### Plot\n",
    "\n",
    "fig = plt.figure(figsize=(6, 4), dpi=300)\n",
    "\n",
    "ax = fig.subplots()\n",
    "\n",
    "mesh = ax.pcolormesh(geoid_diff_cut[\"lon\"], geoid_diff_cut[\"lat\"], geoid_diff_cut)\n",
    "contour = ax.contour(\n",
    "    geoid_diff_cut[\"lon\"], geoid_diff_cut[\"lat\"], geoid_diff_cut, colors=\"white\"\n",
    ")\n",
    "\n",
    "fig.colorbar(mesh, ax=ax)\n",
    "\n",
    "ax.clabel(contour, inline=True, fontsize=7)\n",
    "\n",
    "ax.set_title(\"DTU10 - EGM08 (m)\")\n",
    "\n",
    "plt.tight_layout()"
   ]
  },
  {
   "cell_type": "markdown",
   "metadata": {},
   "source": [
    "#### Export the data"
   ]
  },
  {
   "cell_type": "code",
   "execution_count": null,
   "metadata": {},
   "outputs": [],
   "source": [
    "geotiff = (\n",
    "    geoid_diff.sel(lon=slice(-98, -81), lat=slice(17, 30))\n",
    "    .assign_coords({\"spatial_ref\": egm08[\"spatial_ref\"]})\n",
    "    .rename({\"lon\": \"x\", \"lat\": \"y\"})\n",
    ")\n",
    "geotiff.rio.to_raster(\"./diff.tif\")"
   ]
  }
 ],
 "metadata": {
  "kernelspec": {
   "display_name": "general",
   "language": "python",
   "name": "python3"
  },
  "language_info": {
   "codemirror_mode": {
    "name": "ipython",
    "version": 3
   },
   "file_extension": ".py",
   "mimetype": "text/x-python",
   "name": "python",
   "nbconvert_exporter": "python",
   "pygments_lexer": "ipython3",
   "version": "3.11.8"
  }
 },
 "nbformat": 4,
 "nbformat_minor": 2
}
